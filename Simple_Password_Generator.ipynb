{
  "nbformat": 4,
  "nbformat_minor": 0,
  "metadata": {
    "colab": {
      "provenance": [],
      "authorship_tag": "ABX9TyO3Q/RNJU8VR3g7UzXC4li4",
      "include_colab_link": true
    },
    "kernelspec": {
      "name": "python3",
      "display_name": "Python 3"
    },
    "language_info": {
      "name": "python"
    }
  },
  "cells": [
    {
      "cell_type": "markdown",
      "metadata": {
        "id": "view-in-github",
        "colab_type": "text"
      },
      "source": [
        "<a href=\"https://colab.research.google.com/github/Jithendra7730/oasis-Infobyte-python/blob/main/Simple_Password_Generator.ipynb\" target=\"_parent\"><img src=\"https://colab.research.google.com/assets/colab-badge.svg\" alt=\"Open In Colab\"/></a>"
      ]
    },
    {
      "cell_type": "code",
      "execution_count": null,
      "metadata": {
        "colab": {
          "base_uri": "https://localhost:8080/"
        },
        "id": "cyi9c3CTFB3-",
        "outputId": "8ccd2436-4ae7-46e1-b952-21f8371fea05"
      },
      "outputs": [
        {
          "output_type": "stream",
          "name": "stdout",
          "text": [
            "Choose your mode:\n",
            "[1] Beginner (Command Line)\n",
            "[2] Advanced (GUI)\n",
            "Enter your choice: 1\n",
            "Enter the length of the password: 15\n",
            "Include letters? (yes/no): yes\n",
            "Include numbers? (yes/no): yes\n",
            "Include symbols? (yes/no): yes\n",
            "Generated Password: l{#NkNNM(zD8(u<\n"
          ]
        }
      ],
      "source": [
        "import random\n",
        "import string\n",
        "import tkinter as tk\n",
        "from tkinter import messagebox\n",
        "import pyperclip\n",
        "\n",
        "# Function to generate a random password\n",
        "def generate_password(length, use_letters, use_numbers, use_symbols):\n",
        "    characters = ''\n",
        "    if use_letters:\n",
        "        characters += string.ascii_letters\n",
        "    if use_numbers:\n",
        "        characters += string.digits\n",
        "    if use_symbols:\n",
        "        characters += string.punctuation\n",
        "\n",
        "    if not characters:\n",
        "        messagebox.showerror(\"Error\", \"Please select at least one character type.\")\n",
        "        return\n",
        "\n",
        "    password = ''.join(random.choice(characters) for _ in range(length))\n",
        "    return password\n",
        "\n",
        "# Function to run the GUI password generator with Tkinter\n",
        "def gui_password_generator():\n",
        "    def generate():\n",
        "        try:\n",
        "            length = int(length_entry.get())\n",
        "            use_letters = letters_var.get()\n",
        "            use_numbers = numbers_var.get()\n",
        "            use_symbols = symbols_var.get()\n",
        "\n",
        "            password = generate_password(length, use_letters, use_numbers, use_symbols)\n",
        "            if password:\n",
        "                password_entry.delete(0, tk.END)\n",
        "                password_entry.insert(0, password)\n",
        "        except ValueError:\n",
        "            messagebox.showerror(\"Error\", \"Please enter a valid password length.\")\n",
        "\n",
        "    def copy_to_clipboard():\n",
        "        password = password_entry.get()\n",
        "        if password:\n",
        "            pyperclip.copy(password)\n",
        "            messagebox.showinfo(\"Success\", \"Password copied to clipboard.\")\n",
        "\n",
        "    root = tk.Tk()\n",
        "    root.title(\"Password Generator\")\n",
        "    root.geometry(\"400x300\")\n",
        "    root.configure(bg=\"#f0f0f0\")\n",
        "\n",
        "    title_label = tk.Label(root, text=\"Password Generator\", font=(\"Arial\", 20), bg=\"#f0f0f0\", padx=10, pady=10)\n",
        "    title_label.pack()\n",
        "\n",
        "    length_label = tk.Label(root, text=\"Password Length:\", font=(\"Arial\", 12), bg=\"#f0f0f0\")\n",
        "    length_label.pack()\n",
        "\n",
        "    length_entry = tk.Entry(root, font=(\"Arial\", 12))\n",
        "    length_entry.pack()\n",
        "\n",
        "    letters_var = tk.BooleanVar()\n",
        "    letters_check = tk.Checkbutton(root, text=\"Include Letters\", variable=letters_var, font=(\"Arial\", 12), bg=\"#f0f0f0\")\n",
        "    letters_check.pack()\n",
        "\n",
        "    numbers_var = tk.BooleanVar()\n",
        "    numbers_check = tk.Checkbutton(root, text=\"Include Numbers\", variable=numbers_var, font=(\"Arial\", 12), bg=\"#f0f0f0\")\n",
        "    numbers_check.pack()\n",
        "\n",
        "    symbols_var = tk.BooleanVar()\n",
        "    symbols_check = tk.Checkbutton(root, text=\"Include Symbols\", variable=symbols_var, font=(\"Arial\", 12), bg=\"#f0f0f0\")\n",
        "    symbols_check.pack()\n",
        "\n",
        "    generate_button = tk.Button(root, text=\"Generate Password\", command=generate, font=(\"Arial\", 12), bg=\"#007bff\", fg=\"white\")\n",
        "    generate_button.pack(pady=10)\n",
        "\n",
        "    password_entry = tk.Entry(root, width=30, font=(\"Arial\", 12))\n",
        "    password_entry.pack()\n",
        "\n",
        "    copy_button = tk.Button(root, text=\"Copy to Clipboard\", command=copy_to_clipboard, font=(\"Arial\", 12), bg=\"#28a745\", fg=\"white\")\n",
        "    copy_button.pack(pady=10)\n",
        "\n",
        "    root.mainloop()\n",
        "\n",
        "# Main function to choose mode\n",
        "def main():\n",
        "    print(\"Choose your mode:\")\n",
        "    print(\"[1] Beginner (Command Line)\")\n",
        "    print(\"[2] Advanced (GUI)\")\n",
        "    mode = input(\"Enter your choice: \")\n",
        "\n",
        "    if mode == '1':\n",
        "        command_line_password_generator()  # Beginner Part\n",
        "    elif mode == '2':\n",
        "        gui_password_generator()  # Advanced Part\n",
        "    else:\n",
        "        print(\"Invalid choice.\")\n",
        "\n",
        "# Function to run the command-line password generator\n",
        "def command_line_password_generator():\n",
        "    length = int(input(\"Enter the length of the password: \"))\n",
        "    use_letters = input(\"Include letters? (yes/no): \").lower() == 'yes'\n",
        "    use_numbers = input(\"Include numbers? (yes/no): \").lower() == 'yes'\n",
        "    use_symbols = input(\"Include symbols? (yes/no): \").lower() == 'yes'\n",
        "\n",
        "    password = generate_password(length, use_letters, use_numbers, use_symbols)\n",
        "    if password:\n",
        "        print(\"Generated Password:\", password)\n",
        "\n",
        "# Call the Function to Choose Mode\n",
        "main()"
      ]
    },
    {
      "cell_type": "code",
      "source": [
        "import random\n",
        "import string\n",
        "\n",
        "def generate_password(length, use_letters, use_numbers, use_symbols):\n",
        "    characters = \"\"\n",
        "    if use_letters:\n",
        "        characters += string.ascii_letters\n",
        "    if use_numbers:\n",
        "        characters += string.digits\n",
        "    if use_symbols:\n",
        "        characters += string.punctuation\n",
        "\n",
        "    if not characters:\n",
        "        return \"No character types selected. Please try again.\"\n",
        "\n",
        "    password = \"\"\n",
        "    for _ in range(length):\n",
        "        password += random.choice(characters)\n",
        "\n",
        "    return password\n",
        "\n",
        "def main():\n",
        "    print(\"Welcome to the Password Generator!\")\n",
        "\n",
        "    length = int(input(\"Enter the desired length of the password: \"))\n",
        "    use_letters = input(\"Include letters (y/n)? \").lower() == 'y'\n",
        "    use_numbers = input(\"Include numbers (y/n)? \").lower() == 'y'\n",
        "    use_symbols = input(\"Include symbols (y/n)? \").lower() == 'y'\n",
        "\n",
        "    password = generate_password(length, use_letters, use_numbers, use_symbols)\n",
        "\n",
        "    print(\"Generated Password:\", password)\n",
        "\n",
        "if __name__ == \"__main__\":\n",
        "    main()"
      ],
      "metadata": {
        "colab": {
          "base_uri": "https://localhost:8080/"
        },
        "id": "7sSC1EoMFDCs",
        "outputId": "e0105a81-6c8b-4dc5-8d26-69a72c239b16"
      },
      "execution_count": null,
      "outputs": [
        {
          "output_type": "stream",
          "name": "stdout",
          "text": [
            "Welcome to the Password Generator!\n",
            "Enter the desired length of the password: 20\n",
            "Include letters (y/n)? y\n",
            "Include numbers (y/n)? y\n",
            "Include symbols (y/n)? n\n",
            "Generated Password: n95B1LEE0h2XJzGeU7az\n"
          ]
        }
      ]
    },
    {
      "cell_type": "code",
      "source": [],
      "metadata": {
        "id": "n9WzS4uYIF4D"
      },
      "execution_count": null,
      "outputs": []
    }
  ]
}