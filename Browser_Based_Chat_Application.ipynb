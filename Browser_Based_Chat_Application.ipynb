{
  "nbformat": 4,
  "nbformat_minor": 0,
  "metadata": {
    "colab": {
      "provenance": [],
      "authorship_tag": "ABX9TyPFj019arIKf7ZeEbU8XU3t",
      "include_colab_link": true
    },
    "kernelspec": {
      "name": "python3",
      "display_name": "Python 3"
    },
    "language_info": {
      "name": "python"
    }
  },
  "cells": [
    {
      "cell_type": "markdown",
      "metadata": {
        "id": "view-in-github",
        "colab_type": "text"
      },
      "source": [
        "<a href=\"https://colab.research.google.com/github/Jithendra7730/oasis-Infobyte-python/blob/main/Browser_Based_Chat_Application.ipynb\" target=\"_parent\"><img src=\"https://colab.research.google.com/assets/colab-badge.svg\" alt=\"Open In Colab\"/></a>"
      ]
    },
    {
      "cell_type": "code",
      "execution_count": null,
      "metadata": {
        "colab": {
          "base_uri": "https://localhost:8080/"
        },
        "id": "jgJ3BYkLAYgo",
        "outputId": "218f864e-e591-4c7d-aa7c-76822a728d10"
      },
      "outputs": [
        {
          "output_type": "stream",
          "name": "stdout",
          "text": [
            "[*] Listening as 0.0.0.0:5002\n"
          ]
        }
      ],
      "source": [
        "import socket\n",
        "from threading import Thread\n",
        "\n",
        "# server's IP address\n",
        "SERVER_HOST = \"0.0.0.0\"\n",
        "SERVER_PORT = 5002 # port we want to use\n",
        "separator_token = \"<SEP>\" # we will use this to separate the client name & message\n",
        "\n",
        "# initialize list/set of all connected client's sockets\n",
        "client_sockets = set()\n",
        "# create a TCP socket\n",
        "s = socket.socket()\n",
        "# make the port as reusable port\n",
        "s.setsockopt(socket.SOL_SOCKET, socket.SO_REUSEADDR, 1)\n",
        "# bind the socket to the address we specified\n",
        "s.bind((SERVER_HOST, SERVER_PORT))\n",
        "# listen for upcoming connections\n",
        "s.listen(5)\n",
        "print(f\"[*] Listening as {SERVER_HOST}:{SERVER_PORT}\")"
      ]
    },
    {
      "cell_type": "code",
      "source": [
        "def listen_for_client(cs):\n",
        "    \"\"\"\n",
        "    This function keep listening for a message from `cs` socket\n",
        "    Whenever a message is received, broadcast it to all other connected clients\n",
        "    \"\"\"\n",
        "    while True:\n",
        "        try:\n",
        "            # keep listening for a message from `cs` socket\n",
        "            msg = cs.recv(1024).decode()\n",
        "        except Exception as e:\n",
        "            # client no longer connected\n",
        "            # remove it from the set\n",
        "            print(f\"[!] Error: {e}\")\n",
        "            client_sockets.remove(cs)\n",
        "        else:\n",
        "            # if we received a message, replace the <SEP>\n",
        "            # token with \": \" for nice printing\n",
        "            msg = msg.replace(separator_token, \": \")\n",
        "        # iterate over all connected sockets\n",
        "        for client_socket in client_sockets:\n",
        "            # and send the message\n",
        "            client_socket.send(msg.encode())\n",
        "\n",
        "while True:\n",
        "    # we keep listening for new connections all the time\n",
        "    client_socket, client_address = s.accept()\n",
        "    print(f\"[+] {client_address} connected.\")\n",
        "    # add the new connected client to connected sockets\n",
        "    client_sockets.add(client_socket)\n",
        "    # start a new thread that listens for each client's messages\n",
        "    t = Thread(target=listen_for_client, args=(client_socket,))\n",
        "    # make the thread daemon so it ends whenever the main thread ends\n",
        "    t.daemon = True\n",
        "    # start the thread\n",
        "    t.start()"
      ],
      "metadata": {
        "id": "PUkVnXJTAa4B"
      },
      "execution_count": null,
      "outputs": []
    },
    {
      "cell_type": "code",
      "source": [
        "# close client sockets\n",
        "for cs in client_sockets:\n",
        "    cs.close()\n",
        "# close server socket\n",
        "s.close()"
      ],
      "metadata": {
        "id": "ezqcCRAUArCy"
      },
      "execution_count": null,
      "outputs": []
    },
    {
      "cell_type": "code",
      "source": [
        "import socket\n",
        "import random\n",
        "from threading import Thread\n",
        "from datetime import datetime\n",
        "from colorama import Fore, init, Back\n",
        "\n",
        "# init colors\n",
        "init()\n",
        "\n",
        "# set the available colors\n",
        "colors = [Fore.BLUE, Fore.CYAN, Fore.GREEN, Fore.LIGHTBLACK_EX,\n",
        "    Fore.LIGHTBLUE_EX, Fore.LIGHTCYAN_EX, Fore.LIGHTGREEN_EX,\n",
        "    Fore.LIGHTMAGENTA_EX, Fore.LIGHTRED_EX, Fore.LIGHTWHITE_EX,\n",
        "    Fore.LIGHTYELLOW_EX, Fore.MAGENTA, Fore.RED, Fore.WHITE, Fore.YELLOW\n",
        "]\n",
        "\n",
        "# choose a random color for the client\n",
        "client_color = random.choice(colors)\n",
        "\n",
        "# server's IP address\n",
        "# if the server is not on this machine,\n",
        "# put the private (network) IP address (e.g 192.168.1.2)\n",
        "SERVER_HOST = \"127.0.0.1\"\n",
        "SERVER_PORT = 5002 # server's port\n",
        "separator_token = \"<SEP>\" # we will use this to separate the client name & message\n",
        "\n",
        "# initialize TCP socket\n",
        "s = socket.socket()\n",
        "print(f\"[*] Connecting to {SERVER_HOST}:{SERVER_PORT}...\")\n",
        "# connect to the server\n",
        "s.connect((SERVER_HOST, SERVER_PORT))\n",
        "print(\"[+] Connected.\")"
      ],
      "metadata": {
        "id": "YE8jvAdJBt0E"
      },
      "execution_count": null,
      "outputs": []
    },
    {
      "cell_type": "code",
      "source": [
        "# prompt the client for a name\n",
        "name = input(\"Enter your name: \")"
      ],
      "metadata": {
        "id": "2M_ZKgBnB1yc"
      },
      "execution_count": null,
      "outputs": []
    },
    {
      "cell_type": "code",
      "source": [
        "def listen_for_messages():\n",
        "    while True:\n",
        "        message = s.recv(1024).decode()\n",
        "        print(\"\\n\" + message)\n",
        "\n",
        "# make a thread that listens for messages to this client & print them\n",
        "t = Thread(target=listen_for_messages)\n",
        "# make the thread daemon so it ends whenever the main thread ends\n",
        "t.daemon = True\n",
        "# start the thread\n",
        "t.start()"
      ],
      "metadata": {
        "id": "y0Rw_naxB5_c"
      },
      "execution_count": null,
      "outputs": []
    },
    {
      "cell_type": "code",
      "source": [
        "while True:\n",
        "    # input message we want to send to the server\n",
        "    to_send =  input()\n",
        "    # a way to exit the program\n",
        "    if to_send.lower() == 'q':\n",
        "        break\n",
        "    # add the datetime, name & the color of the sender\n",
        "    date_now = datetime.now().strftime('%Y-%m-%d %H:%M:%S')\n",
        "    to_send = f\"{client_color}[{date_now}] {name}{separator_token}{to_send}{Fore.RESET}\"\n",
        "    # finally, send the message\n",
        "    s.send(to_send.encode())\n",
        "\n",
        "# close the socket\n",
        "s.close()"
      ],
      "metadata": {
        "id": "SskQtHrfB9WR"
      },
      "execution_count": null,
      "outputs": []
    }
  ]
}